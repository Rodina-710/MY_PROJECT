{
 "cells": [
  {
   "cell_type": "markdown",
   "metadata": {},
   "source": [
    "# **Import Required Liberaries**\n",
    "\n",
    "### **Importing necessary Libraries for math and plotting** "
   ]
  },
  {
   "cell_type": "markdown",
   "metadata": {},
   "source": [
    "#### For mathematical operations like sine and cosine  "
   ]
  },
  {
   "cell_type": "code",
   "execution_count": 1,
   "metadata": {},
   "outputs": [],
   "source": [
    "import math"
   ]
  },
  {
   "cell_type": "markdown",
   "metadata": {},
   "source": [
    "#### For plotting the magnitude and phase "
   ]
  },
  {
   "cell_type": "code",
   "execution_count": 22,
   "metadata": {},
   "outputs": [
    {
     "name": "stdout",
     "output_type": "stream",
     "text": [
      "Collecting matplotlib\n",
      "  Downloading matplotlib-3.9.2-cp312-cp312-win_amd64.whl.metadata (11 kB)\n",
      "Collecting contourpy>=1.0.1 (from matplotlib)\n",
      "  Downloading contourpy-1.3.1-cp312-cp312-win_amd64.whl.metadata (5.4 kB)\n",
      "Collecting cycler>=0.10 (from matplotlib)\n",
      "  Downloading cycler-0.12.1-py3-none-any.whl.metadata (3.8 kB)\n",
      "Collecting fonttools>=4.22.0 (from matplotlib)\n",
      "  Downloading fonttools-4.55.0-cp312-cp312-win_amd64.whl.metadata (167 kB)\n",
      "Collecting kiwisolver>=1.3.1 (from matplotlib)\n",
      "  Downloading kiwisolver-1.4.7-cp312-cp312-win_amd64.whl.metadata (6.4 kB)\n",
      "Collecting numpy>=1.23 (from matplotlib)\n",
      "  Downloading numpy-2.1.3-cp312-cp312-win_amd64.whl.metadata (60 kB)\n",
      "Requirement already satisfied: packaging>=20.0 in c:\\users\\amazon\\miniconda3\\lib\\site-packages (from matplotlib) (24.1)\n",
      "Collecting pillow>=8 (from matplotlib)\n",
      "  Downloading pillow-11.0.0-cp312-cp312-win_amd64.whl.metadata (9.3 kB)\n",
      "Collecting pyparsing>=2.3.1 (from matplotlib)\n",
      "  Downloading pyparsing-3.2.0-py3-none-any.whl.metadata (5.0 kB)\n",
      "Requirement already satisfied: python-dateutil>=2.7 in c:\\users\\amazon\\miniconda3\\lib\\site-packages (from matplotlib) (2.9.0.post0)\n",
      "Requirement already satisfied: six>=1.5 in c:\\users\\amazon\\miniconda3\\lib\\site-packages (from python-dateutil>=2.7->matplotlib) (1.16.0)\n",
      "Downloading matplotlib-3.9.2-cp312-cp312-win_amd64.whl (7.8 MB)\n",
      "   ---------------------------------------- 0.0/7.8 MB ? eta -:--:--\n",
      "   ---------------------------------------- 0.0/7.8 MB ? eta -:--:--\n",
      "   - -------------------------------------- 0.3/7.8 MB ? eta -:--:--\n",
      "   -- ------------------------------------- 0.5/7.8 MB 840.2 kB/s eta 0:00:09\n",
      "   -- ------------------------------------- 0.5/7.8 MB 840.2 kB/s eta 0:00:09\n",
      "   ---- ----------------------------------- 0.8/7.8 MB 860.9 kB/s eta 0:00:09\n",
      "   ----- ---------------------------------- 1.0/7.8 MB 853.9 kB/s eta 0:00:08\n",
      "   ----- ---------------------------------- 1.0/7.8 MB 853.9 kB/s eta 0:00:08\n",
      "   ------ --------------------------------- 1.3/7.8 MB 860.9 kB/s eta 0:00:08\n",
      "   -------- ------------------------------- 1.6/7.8 MB 865.2 kB/s eta 0:00:08\n",
      "   -------- ------------------------------- 1.6/7.8 MB 865.2 kB/s eta 0:00:08\n",
      "   --------- ------------------------------ 1.8/7.8 MB 853.4 kB/s eta 0:00:08\n",
      "   ---------- ----------------------------- 2.1/7.8 MB 845.2 kB/s eta 0:00:07\n",
      "   ---------- ----------------------------- 2.1/7.8 MB 845.2 kB/s eta 0:00:07\n",
      "   ------------ --------------------------- 2.4/7.8 MB 844.3 kB/s eta 0:00:07\n",
      "   ------------- -------------------------- 2.6/7.8 MB 843.8 kB/s eta 0:00:07\n",
      "   ------------- -------------------------- 2.6/7.8 MB 843.8 kB/s eta 0:00:07\n",
      "   -------------- ------------------------- 2.9/7.8 MB 843.2 kB/s eta 0:00:06\n",
      "   ---------------- ----------------------- 3.1/7.8 MB 842.9 kB/s eta 0:00:06\n",
      "   ---------------- ----------------------- 3.1/7.8 MB 842.9 kB/s eta 0:00:06\n",
      "   ----------------- ---------------------- 3.4/7.8 MB 842.5 kB/s eta 0:00:06\n",
      "   ------------------ --------------------- 3.7/7.8 MB 842.3 kB/s eta 0:00:05\n",
      "   ------------------ --------------------- 3.7/7.8 MB 842.3 kB/s eta 0:00:05\n",
      "   -------------------- ------------------- 3.9/7.8 MB 841.9 kB/s eta 0:00:05\n",
      "   --------------------- ------------------ 4.2/7.8 MB 844.5 kB/s eta 0:00:05\n",
      "   --------------------- ------------------ 4.2/7.8 MB 844.5 kB/s eta 0:00:05\n",
      "   ---------------------- ----------------- 4.5/7.8 MB 836.4 kB/s eta 0:00:05\n",
      "   ---------------------- ----------------- 4.5/7.8 MB 836.4 kB/s eta 0:00:05\n",
      "   ------------------------ --------------- 4.7/7.8 MB 829.1 kB/s eta 0:00:04\n",
      "   ------------------------- -------------- 5.0/7.8 MB 829.7 kB/s eta 0:00:04\n",
      "   ------------------------- -------------- 5.0/7.8 MB 829.7 kB/s eta 0:00:04\n",
      "   -------------------------- ------------- 5.2/7.8 MB 830.1 kB/s eta 0:00:04\n",
      "   ---------------------------- ----------- 5.5/7.8 MB 820.5 kB/s eta 0:00:03\n",
      "   ---------------------------- ----------- 5.5/7.8 MB 820.5 kB/s eta 0:00:03\n",
      "   ----------------------------- ---------- 5.8/7.8 MB 815.6 kB/s eta 0:00:03\n",
      "   ------------------------------ --------- 6.0/7.8 MB 818.5 kB/s eta 0:00:03\n",
      "   ------------------------------ --------- 6.0/7.8 MB 818.5 kB/s eta 0:00:03\n",
      "   -------------------------------- ------- 6.3/7.8 MB 819.3 kB/s eta 0:00:02\n",
      "   --------------------------------- ------ 6.6/7.8 MB 821.8 kB/s eta 0:00:02\n",
      "   --------------------------------- ------ 6.6/7.8 MB 821.8 kB/s eta 0:00:02\n",
      "   ---------------------------------- ----- 6.8/7.8 MB 824.0 kB/s eta 0:00:02\n",
      "   ------------------------------------ --- 7.1/7.8 MB 826.1 kB/s eta 0:00:01\n",
      "   ------------------------------------ --- 7.1/7.8 MB 826.1 kB/s eta 0:00:01\n",
      "   ------------------------------------- -- 7.3/7.8 MB 826.7 kB/s eta 0:00:01\n",
      "   -------------------------------------- - 7.6/7.8 MB 827.0 kB/s eta 0:00:01\n",
      "   ---------------------------------------- 7.8/7.8 MB 826.9 kB/s eta 0:00:00\n",
      "Downloading contourpy-1.3.1-cp312-cp312-win_amd64.whl (220 kB)\n",
      "Downloading cycler-0.12.1-py3-none-any.whl (8.3 kB)\n",
      "Downloading fonttools-4.55.0-cp312-cp312-win_amd64.whl (2.2 MB)\n",
      "   ---------------------------------------- 0.0/2.2 MB ? eta -:--:--\n",
      "   ---------------------------------------- 0.0/2.2 MB ? eta -:--:--\n",
      "   ---- ----------------------------------- 0.3/2.2 MB ? eta -:--:--\n",
      "   --------- ------------------------------ 0.5/2.2 MB 882.6 kB/s eta 0:00:02\n",
      "   --------- ------------------------------ 0.5/2.2 MB 882.6 kB/s eta 0:00:02\n",
      "   -------------- ------------------------- 0.8/2.2 MB 860.9 kB/s eta 0:00:02\n",
      "   ------------------- -------------------- 1.0/2.2 MB 868.0 kB/s eta 0:00:02\n",
      "   ------------------- -------------------- 1.0/2.2 MB 868.0 kB/s eta 0:00:02\n",
      "   ----------------------- ---------------- 1.3/2.2 MB 860.2 kB/s eta 0:00:02\n",
      "   ---------------------------- ----------- 1.6/2.2 MB 864.6 kB/s eta 0:00:01\n",
      "   ---------------------------- ----------- 1.6/2.2 MB 864.6 kB/s eta 0:00:01\n",
      "   --------------------------------- ------ 1.8/2.2 MB 868.0 kB/s eta 0:00:01\n",
      "   -------------------------------------- - 2.1/2.2 MB 863.5 kB/s eta 0:00:01\n",
      "   ---------------------------------------- 2.2/2.2 MB 856.8 kB/s eta 0:00:00\n",
      "Downloading kiwisolver-1.4.7-cp312-cp312-win_amd64.whl (55 kB)\n",
      "Downloading numpy-2.1.3-cp312-cp312-win_amd64.whl (12.6 MB)\n",
      "   ---------------------------------------- 0.0/12.6 MB ? eta -:--:--\n",
      "   ---------------------------------------- 0.0/12.6 MB ? eta -:--:--\n",
      "    --------------------------------------- 0.3/12.6 MB ? eta -:--:--\n",
      "   - -------------------------------------- 0.5/12.6 MB 882.6 kB/s eta 0:00:14\n",
      "   - -------------------------------------- 0.5/12.6 MB 882.6 kB/s eta 0:00:14\n",
      "   -- ------------------------------------- 0.8/12.6 MB 860.9 kB/s eta 0:00:14\n",
      "   --- ------------------------------------ 1.0/12.6 MB 868.0 kB/s eta 0:00:14\n",
      "   --- ------------------------------------ 1.0/12.6 MB 868.0 kB/s eta 0:00:14\n",
      "   ---- ----------------------------------- 1.3/12.6 MB 849.7 kB/s eta 0:00:14\n",
      "   ----- ---------------------------------- 1.6/12.6 MB 856.1 kB/s eta 0:00:13\n",
      "   ----- ---------------------------------- 1.6/12.6 MB 856.1 kB/s eta 0:00:13\n",
      "   ----- ---------------------------------- 1.8/12.6 MB 860.4 kB/s eta 0:00:13\n",
      "   ------ --------------------------------- 2.1/12.6 MB 857.5 kB/s eta 0:00:13\n",
      "   ------- -------------------------------- 2.4/12.6 MB 860.5 kB/s eta 0:00:12\n",
      "   ------- -------------------------------- 2.4/12.6 MB 860.5 kB/s eta 0:00:12\n",
      "   -------- ------------------------------- 2.6/12.6 MB 862.9 kB/s eta 0:00:12\n",
      "   --------- ------------------------------ 2.9/12.6 MB 860.3 kB/s eta 0:00:12\n",
      "   --------- ------------------------------ 2.9/12.6 MB 860.3 kB/s eta 0:00:12\n",
      "   ---------- ----------------------------- 3.1/12.6 MB 858.5 kB/s eta 0:00:11\n",
      "   ---------- ----------------------------- 3.4/12.6 MB 860.4 kB/s eta 0:00:11\n",
      "   ---------- ----------------------------- 3.4/12.6 MB 860.4 kB/s eta 0:00:11\n",
      "   ----------- ---------------------------- 3.7/12.6 MB 862.1 kB/s eta 0:00:11\n",
      "   ------------ --------------------------- 3.9/12.6 MB 860.5 kB/s eta 0:00:11\n",
      "   ------------ --------------------------- 3.9/12.6 MB 860.5 kB/s eta 0:00:11\n",
      "   ------------- -------------------------- 4.2/12.6 MB 858.9 kB/s eta 0:00:10\n",
      "   -------------- ------------------------- 4.5/12.6 MB 857.7 kB/s eta 0:00:10\n",
      "   -------------- ------------------------- 4.5/12.6 MB 857.7 kB/s eta 0:00:10\n",
      "   --------------- ------------------------ 4.7/12.6 MB 859.2 kB/s eta 0:00:10\n",
      "   --------------- ------------------------ 5.0/12.6 MB 857.9 kB/s eta 0:00:09\n",
      "   ---------------- ----------------------- 5.2/12.6 MB 859.2 kB/s eta 0:00:09\n",
      "   ---------------- ----------------------- 5.2/12.6 MB 859.2 kB/s eta 0:00:09\n",
      "   ----------------- ---------------------- 5.5/12.6 MB 858.2 kB/s eta 0:00:09\n",
      "   ------------------ --------------------- 5.8/12.6 MB 859.4 kB/s eta 0:00:08\n",
      "   ------------------ --------------------- 5.8/12.6 MB 859.4 kB/s eta 0:00:08\n",
      "   ------------------- -------------------- 6.0/12.6 MB 860.4 kB/s eta 0:00:08\n",
      "   -------------------- ------------------- 6.3/12.6 MB 859.5 kB/s eta 0:00:08\n",
      "   -------------------- ------------------- 6.3/12.6 MB 859.5 kB/s eta 0:00:08\n",
      "   -------------------- ------------------- 6.6/12.6 MB 860.4 kB/s eta 0:00:07\n",
      "   --------------------- ------------------ 6.8/12.6 MB 859.5 kB/s eta 0:00:07\n",
      "   ---------------------- ----------------- 7.1/12.6 MB 860.4 kB/s eta 0:00:07\n",
      "   ---------------------- ----------------- 7.1/12.6 MB 860.4 kB/s eta 0:00:07\n",
      "   ----------------------- ---------------- 7.3/12.6 MB 861.2 kB/s eta 0:00:07\n",
      "   ------------------------ --------------- 7.6/12.6 MB 860.4 kB/s eta 0:00:06\n",
      "   ------------------------ --------------- 7.6/12.6 MB 860.4 kB/s eta 0:00:06\n",
      "   ------------------------- -------------- 7.9/12.6 MB 859.6 kB/s eta 0:00:06\n",
      "   ------------------------- -------------- 8.1/12.6 MB 860.4 kB/s eta 0:00:06\n",
      "   ------------------------- -------------- 8.1/12.6 MB 860.4 kB/s eta 0:00:06\n",
      "   -------------------------- ------------- 8.4/12.6 MB 861.1 kB/s eta 0:00:05\n",
      "   --------------------------- ------------ 8.7/12.6 MB 861.8 kB/s eta 0:00:05\n",
      "   ---------------------------- ----------- 8.9/12.6 MB 862.4 kB/s eta 0:00:05\n",
      "   ---------------------------- ----------- 8.9/12.6 MB 862.4 kB/s eta 0:00:05\n",
      "   ----------------------------- ---------- 9.2/12.6 MB 861.6 kB/s eta 0:00:04\n",
      "   ------------------------------ --------- 9.4/12.6 MB 862.3 kB/s eta 0:00:04\n",
      "   ------------------------------ --------- 9.4/12.6 MB 862.3 kB/s eta 0:00:04\n",
      "   ------------------------------ --------- 9.7/12.6 MB 861.6 kB/s eta 0:00:04\n",
      "   ------------------------------- -------- 10.0/12.6 MB 862.2 kB/s eta 0:00:04\n",
      "   ------------------------------- -------- 10.0/12.6 MB 862.2 kB/s eta 0:00:04\n",
      "   -------------------------------- ------- 10.2/12.6 MB 861.6 kB/s eta 0:00:03\n",
      "   --------------------------------- ------ 10.5/12.6 MB 862.1 kB/s eta 0:00:03\n",
      "   --------------------------------- ------ 10.5/12.6 MB 862.1 kB/s eta 0:00:03\n",
      "   ---------------------------------- ----- 10.7/12.6 MB 861.5 kB/s eta 0:00:03\n",
      "   ----------------------------------- ---- 11.0/12.6 MB 862.0 kB/s eta 0:00:02\n",
      "   ----------------------------------- ---- 11.3/12.6 MB 862.5 kB/s eta 0:00:02\n",
      "   ----------------------------------- ---- 11.3/12.6 MB 862.5 kB/s eta 0:00:02\n",
      "   ------------------------------------ --- 11.5/12.6 MB 863.0 kB/s eta 0:00:02\n",
      "   ------------------------------------- -- 11.8/12.6 MB 862.4 kB/s eta 0:00:01\n",
      "   ------------------------------------- -- 11.8/12.6 MB 862.4 kB/s eta 0:00:01\n",
      "   -------------------------------------- - 12.1/12.6 MB 861.9 kB/s eta 0:00:01\n",
      "   ---------------------------------------  12.3/12.6 MB 862.3 kB/s eta 0:00:01\n",
      "   ---------------------------------------  12.3/12.6 MB 862.3 kB/s eta 0:00:01\n",
      "   ---------------------------------------- 12.6/12.6 MB 860.6 kB/s eta 0:00:00\n",
      "Downloading pillow-11.0.0-cp312-cp312-win_amd64.whl (2.6 MB)\n",
      "   ---------------------------------------- 0.0/2.6 MB ? eta -:--:--\n",
      "   ---------------------------------------- 0.0/2.6 MB ? eta -:--:--\n",
      "   ---- ----------------------------------- 0.3/2.6 MB ? eta -:--:--\n",
      "   -------- ------------------------------- 0.5/2.6 MB 882.6 kB/s eta 0:00:03\n",
      "   -------- ------------------------------- 0.5/2.6 MB 882.6 kB/s eta 0:00:03\n",
      "   ------------ --------------------------- 0.8/2.6 MB 859.5 kB/s eta 0:00:03\n",
      "   ---------------- ----------------------- 1.0/2.6 MB 867.1 kB/s eta 0:00:02\n",
      "   ---------------- ----------------------- 1.0/2.6 MB 867.1 kB/s eta 0:00:02\n",
      "   -------------------- ------------------- 1.3/2.6 MB 860.2 kB/s eta 0:00:02\n",
      "   ------------------------ --------------- 1.6/2.6 MB 855.6 kB/s eta 0:00:02\n",
      "   ------------------------ --------------- 1.6/2.6 MB 855.6 kB/s eta 0:00:02\n",
      "   ---------------------------- ----------- 1.8/2.6 MB 860.4 kB/s eta 0:00:01\n",
      "   -------------------------------- ------- 2.1/2.6 MB 863.5 kB/s eta 0:00:01\n",
      "   ------------------------------------ --- 2.4/2.6 MB 860.2 kB/s eta 0:00:01\n",
      "   ------------------------------------ --- 2.4/2.6 MB 860.2 kB/s eta 0:00:01\n",
      "   ---------------------------------------- 2.6/2.6 MB 857.7 kB/s eta 0:00:00\n",
      "Downloading pyparsing-3.2.0-py3-none-any.whl (106 kB)\n",
      "Installing collected packages: pyparsing, pillow, numpy, kiwisolver, fonttools, cycler, contourpy, matplotlib\n",
      "Successfully installed contourpy-1.3.1 cycler-0.12.1 fonttools-4.55.0 kiwisolver-1.4.7 matplotlib-3.9.2 numpy-2.1.3 pillow-11.0.0 pyparsing-3.2.0\n"
     ]
    }
   ],
   "source": [
    "! pip install matplotlib"
   ]
  },
  {
   "cell_type": "code",
   "execution_count": 26,
   "metadata": {},
   "outputs": [
    {
     "name": "stdout",
     "output_type": "stream",
     "text": [
      "3.9.2\n"
     ]
    }
   ],
   "source": [
    "import numpy as np\n",
    "import matplotlib.pyplot as plt\n",
    "print (matplotlib.__version__)"
   ]
  },
  {
   "cell_type": "markdown",
   "metadata": {},
   "source": [
    "### **Implementing a Simple Complex Number Class**"
   ]
  },
  {
   "cell_type": "code",
   "execution_count": 5,
   "metadata": {},
   "outputs": [],
   "source": [
    "class ComplexNumber :\n",
    "    \n",
    "    def __init__(self , real =0 , imag =0 ) :\n",
    "        self.real = real  # Real Part of the complex number  \n",
    "        self.imag = imag  # Imaginary part of the complex number \n",
    "    \n",
    "    # Function to ADD the real and imaginary part \n",
    "    \n",
    "    def __add__ (self , other) :\n",
    "        # Return a new instance of ComplexNumber \n",
    "        return ComplexNumber (self.real + other.real , self.imag + other.imag)\n",
    "    \n",
    "    # Function to Multipliction the real and imaginary part \n",
    "    \n",
    "    def __mul__ (self , other ) :\n",
    "        real_part = self.real * other.real -self.imag * other.imag\n",
    "        imag_part = self.real * other.imag + self.imag *other.real\n",
    "        # Return a new instance of ComplexNumber\n",
    "        return ComplexNumber (real_part , imag_part)\n",
    "    \n",
    "    # Function To Get the Magnitude of Complex Number \n",
    "    \n",
    "    def magnitude (self) :\n",
    "        return math.sqrt(self.real **2 + self.imag**2)\n",
    "    \n",
    "    # Function To Get the Phase \n",
    "    \n",
    "    def phase (self) :\n",
    "        return math.atan2(self.imag , self.real)\n",
    "    \n",
    "    # To Print the Complex number in a Friendly Way\n",
    "    \n",
    "    def __str__ (self) :\n",
    "        return f\"{self.real} + {self.imag}j\"\n",
    "    \n",
    "    \n",
    "    \n",
    "    \n",
    "    \n",
    "       \n",
    "        \n",
    "        "
   ]
  },
  {
   "cell_type": "markdown",
   "metadata": {},
   "source": [
    "### **Implementing the DFT Function**"
   ]
  },
  {
   "cell_type": "code",
   "execution_count": 15,
   "metadata": {},
   "outputs": [],
   "source": [
    "def compute_DFT (input_signal) :\n",
    "    \n",
    "    Number= len (input_signal)  # Number of points in the input signal  [x(n)]\n",
    "    \n",
    "    DFT_result = []  # List to store the DFT results \n",
    "    \n",
    "    \n",
    "    # The outer loop iterates over the frequency bins (k)\n",
    "    \n",
    "    for k in range(Number) :\n",
    "        sum_complex = ComplexNumber (0,0)  # Initialize sum as a complex number\n",
    "        \n",
    "        \n",
    "        # The inner loop computes the summation for each bin (n)\n",
    "        \n",
    "        for n in range (Number) :\n",
    "            \n",
    "            angle = (-2 * math.pi * k * n )/ Number  # Calucate the angle \n",
    "            \n",
    "            twiddle = ComplexNumber( math.cos(angle) , math.sin(angle) )  # Compute e ^ (-j * angle )\n",
    "            \n",
    "            sum_complex+= input_signal [n] * twiddle   # Summation for DFT \n",
    "        \n",
    "        DFT_result . append (sum_complex)\n",
    "    \n",
    "    return DFT_result    "
   ]
  },
  {
   "cell_type": "markdown",
   "metadata": {},
   "source": [
    "### **Visualizing Magnitude and Phase**"
   ]
  },
  {
   "cell_type": "code",
   "execution_count": 33,
   "metadata": {},
   "outputs": [],
   "source": [
    "def plot_DFT (DFT_result) :\n",
    "    \n",
    "    magnitudes = [x.magnitude() for x in DFT_result]\n",
    "    \n",
    "    phases = [x.phase () for x in DFT_result ]\n",
    "    \n",
    "    frequencies = range (len(DFT_result))\n",
    "    \n",
    "    \n",
    "    # Plot the magnitude \n",
    "    \n",
    "    plt.figure (figsize=(10, 5))\n",
    "    plt.subplot (1 , 2, 1)\n",
    "    plt.stem (range(len(magnitudes)) , magnitudes , basefmt=\" \")\n",
    "    plt.axhline(y=0, color='gray', linestyle='-', linewidth=1)\n",
    "    plt.title (\"Magnitude Spectrum\")\n",
    "    plt.xlabel (\"Frequency (k)\")\n",
    "    plt.ylabel (\"Magnitude\")\n",
    "    \n",
    "    # Plot phase \n",
    "    \n",
    "    plt.subplot(1, 2, 2)\n",
    "    plt.stem(range(len(phases)) , phases , basefmt=\" \")\n",
    "    plt.axhline(y=0, color='gray', linestyle='-', linewidth=1)\n",
    "    plt.title(\"Phase Spectrum\")\n",
    "    plt.xlabel(\"Frequency (k)\")\n",
    "    plt.ylabel(\"Phase (radians)\")\n",
    "    \n",
    "    plt.tight_layout ()\n",
    "    plt.show()"
   ]
  },
  {
   "cell_type": "markdown",
   "metadata": {},
   "source": [
    "### **Running the Problem**"
   ]
  },
  {
   "cell_type": "markdown",
   "metadata": {},
   "source": [
    "#### Example usage \n",
    "\n",
    "- Define the input signal as a list of ComplexNumber objects "
   ]
  },
  {
   "cell_type": "code",
   "execution_count": 16,
   "metadata": {},
   "outputs": [],
   "source": [
    "input_signal = [ComplexNumber (1,0) , ComplexNumber (2 ,0) , ComplexNumber (3, 0) , ComplexNumber (4 , 0)]"
   ]
  },
  {
   "cell_type": "markdown",
   "metadata": {},
   "source": [
    "- Compute the DFT"
   ]
  },
  {
   "cell_type": "code",
   "execution_count": 17,
   "metadata": {},
   "outputs": [],
   "source": [
    "DFT_result = compute_DFT (input_signal)"
   ]
  },
  {
   "cell_type": "markdown",
   "metadata": {},
   "source": [
    "- Print the results "
   ]
  },
  {
   "cell_type": "code",
   "execution_count": 18,
   "metadata": {},
   "outputs": [
    {
     "name": "stdout",
     "output_type": "stream",
     "text": [
      "DFT Results :\n",
      "k = 0: 10.0 + 0.0j (Magnitude = 10.0 , Phase = 0.0 radians)\n",
      "k = 1: -2.0000000000000004 + 1.9999999999999996j (Magnitude = 2.8284271247461903 , Phase = 2.3561944901923453 radians)\n",
      "k = 2: -2.0 + -9.797174393178826e-16j (Magnitude = 2.0 , Phase = -3.1415926535897927 radians)\n",
      "k = 3: -1.9999999999999982 + -2.000000000000001j (Magnitude = 2.8284271247461894 , Phase = -2.3561944901923444 radians)\n"
     ]
    }
   ],
   "source": [
    "print ( \"DFT Results :\")\n",
    "\n",
    "for i  , value in enumerate (DFT_result) :\n",
    "    print (f\"k = {i}: {value} (Magnitude = {value.magnitude()} , Phase = {value.phase()} radians)\")"
   ]
  },
  {
   "cell_type": "markdown",
   "metadata": {},
   "source": [
    "- Plot the results"
   ]
  },
  {
   "cell_type": "code",
   "execution_count": 34,
   "metadata": {},
   "outputs": [
    {
     "data": {
      "image/png": "[encoded data removed]",
      "text/plain": [
       "<Figure size 1000x500 with 2 Axes>"
      ]
     },
     "metadata": {},
     "output_type": "display_data"
    }
   ],
   "source": [
    "plot_DFT(DFT_result)"
   ]
  }
 ],
 "metadata": {
  "kernelspec": {
   "display_name": "base",
   "language": "python",
   "name": "python3"
  },
  "language_info": {
   "codemirror_mode": {
    "name": "ipython",
    "version": 3
   },
   "file_extension": ".py",
   "mimetype": "text/x-python",
   "name": "python",
   "nbconvert_exporter": "python",
   "pygments_lexer": "ipython3",
   "version": "3.12.7"
  }
 },
 "nbformat": 4,
 "nbformat_minor": 2
}
